{
 "cells": [
  {
   "cell_type": "code",
   "execution_count": 7,
   "id": "1470cea4",
   "metadata": {},
   "outputs": [
    {
     "name": "stdout",
     "output_type": "stream",
     "text": [
      "Accuracy (Manual KNN): 0.9900\n",
      "Accuracy (Scikit-learn KNN): 0.9900\n"
     ]
    }
   ],
   "source": [
    "from keras.datasets import mnist\n",
    "import numpy as np \n",
    "from sklearn.neighbors import KNeighborsClassifier\n",
    "from sklearn.metrics import accuracy_score\n",
    "from knn_numpy import knn_predict\n",
    "\n",
    "\n",
    "\n",
    "(X_train , y_train) , (X_test,y_test) = mnist.load_data()\n",
    "X_train = X_train/255\n",
    "X_test = X_test/255\n",
    "\n",
    "#Flat datas:\n",
    "X_train = X_train.reshape(len(X_train) , -1 )\n",
    "X_test = X_test.reshape(len(X_test) , -1)\n",
    "\n",
    "#manual knn by me : \n",
    "y_predict_manual = knn_predict(X_train , y_train, X_test[:100] , k=5)\n",
    "\n",
    "\n",
    "#knn sklearn version:\n",
    "knn = KNeighborsClassifier(n_neighbors=5)\n",
    "knn.fit(X_train,y_train)\n",
    "y_pred_sklearn = knn.predict(X_test[:100])\n",
    "\n",
    "\n",
    "#evaluate accuracy : \n",
    "acc_manual = accuracy_score(y_test[:100], y_predict_manual)\n",
    "acc_sklearn = accuracy_score(y_test[:100], y_pred_sklearn)\n",
    "\n",
    "\n",
    "print(f\"Accuracy (Manual KNN): {acc_manual:.4f}\")\n",
    "print(f\"Accuracy (Scikit-learn KNN): {acc_sklearn:.4f}\")\n"
   ]
  }
 ],
 "metadata": {
  "kernelspec": {
   "display_name": "ml_env",
   "language": "python",
   "name": "python3"
  },
  "language_info": {
   "codemirror_mode": {
    "name": "ipython",
    "version": 3
   },
   "file_extension": ".py",
   "mimetype": "text/x-python",
   "name": "python",
   "nbconvert_exporter": "python",
   "pygments_lexer": "ipython3",
   "version": "3.11.13"
  }
 },
 "nbformat": 4,
 "nbformat_minor": 5
}
